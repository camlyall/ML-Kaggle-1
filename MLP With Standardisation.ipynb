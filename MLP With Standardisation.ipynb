{
 "cells": [
  {
   "cell_type": "markdown",
   "metadata": {
    "collapsed": true
   },
   "source": [
    "## Setup"
   ]
  },
  {
   "cell_type": "code",
   "execution_count": 1,
   "metadata": {},
   "outputs": [],
   "source": [
    "import csv\n",
    "import pandas as pd\n",
    "import numpy as np\n",
    "\n",
    "train_df = pd.read_csv(\"training.csv\", delimiter=\",\", header=0)\n",
    "test_df = pd.read_csv(\"testing.csv\", delimiter=\",\", header=0)\n",
    "confidence_df = pd.read_csv(\"annotation_confidence.csv\", delimiter=\",\", header=0)\n",
    "additional_df = pd.read_csv(\"additional_training.csv\", delimiter=\",\", header=0)\n",
    "proportions_df = pd.read_csv(\"test_proportions.csv\", delimiter=\",\", header=None, dtype=\"unicode\")\n",
    "\n",
    "all_df = pd.concat([train_df, additional_df])\n",
    "\n",
    "unconfident_list = confidence_df[confidence_df.confidence != 1]['ID'].tolist()\n",
    "confident_list = confidence_df[confidence_df.confidence == 1]['ID'].tolist()"
   ]
  },
  {
   "cell_type": "markdown",
   "metadata": {},
   "source": [
    "## Confident Training Average"
   ]
  },
  {
   "cell_type": "markdown",
   "metadata": {},
   "source": [
    " - Training Data\n",
    " - Confident Training Data\n",
    " - Confident 0 Training Data\n",
    " - Confident 1 Trainng Data\n",
    " - Averages for above 2"
   ]
  },
  {
   "cell_type": "code",
   "execution_count": 2,
   "metadata": {
    "collapsed": true
   },
   "outputs": [],
   "source": [
    "confident_train_df = train_df[train_df['ID'].isin(confident_list)]\n",
    "confident_0_train_df = confident_train_df[confident_train_df.prediction == 0]\n",
    "confident_1_train_df = confident_train_df[confident_train_df.prediction == 1]\n",
    "confident_0_avg = pd.DataFrame(confident_0_train_df.mean(axis=0)[1:-1]).T\n",
    "confident_1_avg = pd.DataFrame(confident_1_train_df.mean(axis=0)[1:-1]).T"
   ]
  },
  {
   "cell_type": "markdown",
   "metadata": {},
   "source": [
    "## Unconfident Training and Additional Average"
   ]
  },
  {
   "cell_type": "markdown",
   "metadata": {},
   "source": [
    " - Unconfident All Data\n",
    " - Unconfident 0 All Data\n",
    " - Unconfident 1 All Data\n",
    " - Averages for above 2"
   ]
  },
  {
   "cell_type": "code",
   "execution_count": 3,
   "metadata": {
    "collapsed": true
   },
   "outputs": [],
   "source": [
    "unconfident_all_df =  all_df[all_df['ID'].isin(unconfident_list)]\n",
    "unconfident_0_all_df = unconfident_all_df[unconfident_all_df.prediction == 0]\n",
    "unconfident_1_all_df = unconfident_all_df[unconfident_all_df.prediction == 1]\n",
    "unconfident_0_avg = pd.DataFrame(unconfident_0_all_df.mean(axis=0)[1:-1]).T\n",
    "unconfident_1_avg = pd.DataFrame(unconfident_1_all_df.mean(axis=0)[1:-1]).T"
   ]
  },
  {
   "cell_type": "markdown",
   "metadata": {},
   "source": [
    "## Fill Additional With Confident Averages"
   ]
  },
  {
   "cell_type": "markdown",
   "metadata": {},
   "source": [
    " - Additional Data\n",
    " - Confident Additional Data\n",
    " - Confident 0 Additional Data\n",
    " - Confident 1 Additional Data\n",
    " - FillNa above 2 with Confident Averages\n",
    " - Update Additional with New values"
   ]
  },
  {
   "cell_type": "code",
   "execution_count": 4,
   "metadata": {
    "collapsed": true
   },
   "outputs": [],
   "source": [
    "confident_additional_df = additional_df[additional_df['ID'].isin(confident_list)].copy()\n",
    "confident_0_additional_df = confident_additional_df[confident_additional_df.prediction == 0]\n",
    "confident_1_additional_df = confident_additional_df[confident_additional_df.prediction == 1]\n",
    "confident_0_additional_df = confident_0_additional_df.fillna(value=confident_0_avg.iloc[0])\n",
    "confident_1_additional_df = confident_1_additional_df.fillna(value=confident_1_avg.iloc[0])"
   ]
  },
  {
   "cell_type": "code",
   "execution_count": 5,
   "metadata": {
    "collapsed": true
   },
   "outputs": [],
   "source": [
    "confident_additional_df.update(confident_0_additional_df)\n",
    "confident_additional_df.update(confident_1_additional_df)\n",
    "additional_df.update(confident_additional_df)"
   ]
  },
  {
   "cell_type": "markdown",
   "metadata": {},
   "source": [
    "## Fill Additional With Unconfident Averages"
   ]
  },
  {
   "cell_type": "markdown",
   "metadata": {},
   "source": [
    " - Unconfident AdditionalData\n",
    " - Unconfident 0 Additional Data\n",
    " - Unconfident 1 Additional Data\n",
    " - FillNa above 2 with Unconfident Averages\n",
    " - Update Additional with New Values\n"
   ]
  },
  {
   "cell_type": "code",
   "execution_count": 6,
   "metadata": {
    "collapsed": true
   },
   "outputs": [],
   "source": [
    "unconfident_additional_df = additional_df[additional_df['ID'].isin(unconfident_list)].copy()\n",
    "unconfident_0_additional_df = unconfident_additional_df[unconfident_additional_df.prediction == 0]\n",
    "unconfident_1_additional_df = unconfident_additional_df[unconfident_additional_df.prediction == 1]\n",
    "unconfident_0_additional_df = unconfident_0_additional_df.fillna(value=unconfident_0_avg.iloc[0])\n",
    "unconfident_1_additional_df = unconfident_1_additional_df.fillna(value=unconfident_1_avg.iloc[0])"
   ]
  },
  {
   "cell_type": "code",
   "execution_count": 7,
   "metadata": {
    "collapsed": true
   },
   "outputs": [],
   "source": [
    "unconfident_additional_df.update(unconfident_0_additional_df)\n",
    "unconfident_additional_df.update(unconfident_1_additional_df)\n",
    "additional_df.update(unconfident_additional_df)"
   ]
  },
  {
   "cell_type": "markdown",
   "metadata": {},
   "source": [
    "### Update All with New Additional Values"
   ]
  },
  {
   "cell_type": "code",
   "execution_count": 8,
   "metadata": {
    "collapsed": true
   },
   "outputs": [],
   "source": [
    "all_df.update(additional_df)"
   ]
  },
  {
   "cell_type": "markdown",
   "metadata": {},
   "source": [
    "# Multi-Layered Perceptron"
   ]
  },
  {
   "cell_type": "code",
   "execution_count": 22,
   "metadata": {},
   "outputs": [],
   "source": [
    "from keras.models import Sequential\n",
    "from keras.layers import Dense\n",
    "from sklearn.preprocessing import StandardScaler\n",
    "from sklearn.model_selection import train_test_split\n",
    "from sklearn.metrics import accuracy_score\n",
    "import random\n",
    "\n",
    "#Standardization\n",
    "sc=StandardScaler()"
   ]
  },
  {
   "cell_type": "code",
   "execution_count": 17,
   "metadata": {},
   "outputs": [
    {
     "data": {
      "text/html": [
       "<div>\n",
       "<style>\n",
       "    .dataframe thead tr:only-child th {\n",
       "        text-align: right;\n",
       "    }\n",
       "\n",
       "    .dataframe thead th {\n",
       "        text-align: left;\n",
       "    }\n",
       "\n",
       "    .dataframe tbody tr th {\n",
       "        vertical-align: top;\n",
       "    }\n",
       "</style>\n",
       "<table border=\"1\" class=\"dataframe\">\n",
       "  <thead>\n",
       "    <tr style=\"text-align: right;\">\n",
       "      <th></th>\n",
       "      <th>0</th>\n",
       "      <th>1</th>\n",
       "      <th>2</th>\n",
       "      <th>3</th>\n",
       "      <th>4</th>\n",
       "      <th>5</th>\n",
       "      <th>6</th>\n",
       "      <th>7</th>\n",
       "      <th>8</th>\n",
       "      <th>9</th>\n",
       "      <th>...</th>\n",
       "      <th>4598</th>\n",
       "      <th>4599</th>\n",
       "      <th>4600</th>\n",
       "      <th>4601</th>\n",
       "      <th>4602</th>\n",
       "      <th>4603</th>\n",
       "      <th>4604</th>\n",
       "      <th>4605</th>\n",
       "      <th>4606</th>\n",
       "      <th>4607</th>\n",
       "    </tr>\n",
       "  </thead>\n",
       "  <tbody>\n",
       "    <tr>\n",
       "      <th>0</th>\n",
       "      <td>-0.486645</td>\n",
       "      <td>-0.392660</td>\n",
       "      <td>-0.359750</td>\n",
       "      <td>-0.485127</td>\n",
       "      <td>-0.459488</td>\n",
       "      <td>-0.540476</td>\n",
       "      <td>-0.666244</td>\n",
       "      <td>-0.661199</td>\n",
       "      <td>-0.577916</td>\n",
       "      <td>0.747233</td>\n",
       "      <td>...</td>\n",
       "      <td>0.293899</td>\n",
       "      <td>-0.166834</td>\n",
       "      <td>0.369458</td>\n",
       "      <td>0.386308</td>\n",
       "      <td>-0.492837</td>\n",
       "      <td>-0.739001</td>\n",
       "      <td>0.303951</td>\n",
       "      <td>-0.242137</td>\n",
       "      <td>-1.244617</td>\n",
       "      <td>-1.064447</td>\n",
       "    </tr>\n",
       "    <tr>\n",
       "      <th>1</th>\n",
       "      <td>-0.486645</td>\n",
       "      <td>0.127280</td>\n",
       "      <td>-0.359750</td>\n",
       "      <td>-0.485127</td>\n",
       "      <td>-0.459488</td>\n",
       "      <td>0.603111</td>\n",
       "      <td>-0.666244</td>\n",
       "      <td>2.419194</td>\n",
       "      <td>-0.577916</td>\n",
       "      <td>0.052351</td>\n",
       "      <td>...</td>\n",
       "      <td>0.514554</td>\n",
       "      <td>0.077314</td>\n",
       "      <td>-0.249538</td>\n",
       "      <td>0.032557</td>\n",
       "      <td>0.315849</td>\n",
       "      <td>-0.811516</td>\n",
       "      <td>0.430182</td>\n",
       "      <td>-0.378704</td>\n",
       "      <td>0.096350</td>\n",
       "      <td>0.864767</td>\n",
       "    </tr>\n",
       "    <tr>\n",
       "      <th>2</th>\n",
       "      <td>-0.326229</td>\n",
       "      <td>0.803328</td>\n",
       "      <td>0.097264</td>\n",
       "      <td>1.015179</td>\n",
       "      <td>-0.459488</td>\n",
       "      <td>1.639548</td>\n",
       "      <td>-0.666244</td>\n",
       "      <td>-0.109270</td>\n",
       "      <td>-0.577916</td>\n",
       "      <td>-0.759306</td>\n",
       "      <td>...</td>\n",
       "      <td>0.040617</td>\n",
       "      <td>0.688078</td>\n",
       "      <td>1.504918</td>\n",
       "      <td>2.603867</td>\n",
       "      <td>1.758018</td>\n",
       "      <td>1.879006</td>\n",
       "      <td>1.037315</td>\n",
       "      <td>0.072729</td>\n",
       "      <td>0.407271</td>\n",
       "      <td>0.743069</td>\n",
       "    </tr>\n",
       "    <tr>\n",
       "      <th>3</th>\n",
       "      <td>-0.486645</td>\n",
       "      <td>-0.535811</td>\n",
       "      <td>-0.359750</td>\n",
       "      <td>6.254173</td>\n",
       "      <td>-0.459488</td>\n",
       "      <td>-0.540476</td>\n",
       "      <td>0.258153</td>\n",
       "      <td>0.155257</td>\n",
       "      <td>1.267018</td>\n",
       "      <td>1.710574</td>\n",
       "      <td>...</td>\n",
       "      <td>-1.199802</td>\n",
       "      <td>-0.805845</td>\n",
       "      <td>-0.227173</td>\n",
       "      <td>-1.343459</td>\n",
       "      <td>-1.216297</td>\n",
       "      <td>-0.762978</td>\n",
       "      <td>-0.197561</td>\n",
       "      <td>-1.521580</td>\n",
       "      <td>-0.141262</td>\n",
       "      <td>-0.425687</td>\n",
       "    </tr>\n",
       "    <tr>\n",
       "      <th>4</th>\n",
       "      <td>-0.486645</td>\n",
       "      <td>-0.109763</td>\n",
       "      <td>-0.129671</td>\n",
       "      <td>-0.018942</td>\n",
       "      <td>3.574124</td>\n",
       "      <td>-0.540476</td>\n",
       "      <td>-0.352161</td>\n",
       "      <td>-0.661199</td>\n",
       "      <td>0.134694</td>\n",
       "      <td>-0.759306</td>\n",
       "      <td>...</td>\n",
       "      <td>-0.964901</td>\n",
       "      <td>0.167138</td>\n",
       "      <td>-0.546753</td>\n",
       "      <td>-1.089281</td>\n",
       "      <td>-0.081190</td>\n",
       "      <td>0.004939</td>\n",
       "      <td>-1.095942</td>\n",
       "      <td>-1.816843</td>\n",
       "      <td>-1.982592</td>\n",
       "      <td>-0.506644</td>\n",
       "    </tr>\n",
       "  </tbody>\n",
       "</table>\n",
       "<p>5 rows × 4608 columns</p>\n",
       "</div>"
      ],
      "text/plain": [
       "       0         1         2         3         4         5         6     \\\n",
       "0 -0.486645 -0.392660 -0.359750 -0.485127 -0.459488 -0.540476 -0.666244   \n",
       "1 -0.486645  0.127280 -0.359750 -0.485127 -0.459488  0.603111 -0.666244   \n",
       "2 -0.326229  0.803328  0.097264  1.015179 -0.459488  1.639548 -0.666244   \n",
       "3 -0.486645 -0.535811 -0.359750  6.254173 -0.459488 -0.540476  0.258153   \n",
       "4 -0.486645 -0.109763 -0.129671 -0.018942  3.574124 -0.540476 -0.352161   \n",
       "\n",
       "       7         8         9       ...         4598      4599      4600  \\\n",
       "0 -0.661199 -0.577916  0.747233    ...     0.293899 -0.166834  0.369458   \n",
       "1  2.419194 -0.577916  0.052351    ...     0.514554  0.077314 -0.249538   \n",
       "2 -0.109270 -0.577916 -0.759306    ...     0.040617  0.688078  1.504918   \n",
       "3  0.155257  1.267018  1.710574    ...    -1.199802 -0.805845 -0.227173   \n",
       "4 -0.661199  0.134694 -0.759306    ...    -0.964901  0.167138 -0.546753   \n",
       "\n",
       "       4601      4602      4603      4604      4605      4606      4607  \n",
       "0  0.386308 -0.492837 -0.739001  0.303951 -0.242137 -1.244617 -1.064447  \n",
       "1  0.032557  0.315849 -0.811516  0.430182 -0.378704  0.096350  0.864767  \n",
       "2  2.603867  1.758018  1.879006  1.037315  0.072729  0.407271  0.743069  \n",
       "3 -1.343459 -1.216297 -0.762978 -0.197561 -1.521580 -0.141262 -0.425687  \n",
       "4 -1.089281 -0.081190  0.004939 -1.095942 -1.816843 -1.982592 -0.506644  \n",
       "\n",
       "[5 rows x 4608 columns]"
      ]
     },
     "metadata": {},
     "output_type": "display_data"
    },
    {
     "data": {
      "text/html": [
       "<div>\n",
       "<style>\n",
       "    .dataframe thead tr:only-child th {\n",
       "        text-align: right;\n",
       "    }\n",
       "\n",
       "    .dataframe thead th {\n",
       "        text-align: left;\n",
       "    }\n",
       "\n",
       "    .dataframe tbody tr th {\n",
       "        vertical-align: top;\n",
       "    }\n",
       "</style>\n",
       "<table border=\"1\" class=\"dataframe\">\n",
       "  <thead>\n",
       "    <tr style=\"text-align: right;\">\n",
       "      <th></th>\n",
       "      <th>0</th>\n",
       "      <th>1</th>\n",
       "      <th>2</th>\n",
       "      <th>3</th>\n",
       "      <th>4</th>\n",
       "      <th>5</th>\n",
       "      <th>6</th>\n",
       "      <th>7</th>\n",
       "      <th>8</th>\n",
       "      <th>9</th>\n",
       "      <th>...</th>\n",
       "      <th>4598</th>\n",
       "      <th>4599</th>\n",
       "      <th>4600</th>\n",
       "      <th>4601</th>\n",
       "      <th>4602</th>\n",
       "      <th>4603</th>\n",
       "      <th>4604</th>\n",
       "      <th>4605</th>\n",
       "      <th>4606</th>\n",
       "      <th>4607</th>\n",
       "    </tr>\n",
       "  </thead>\n",
       "  <tbody>\n",
       "    <tr>\n",
       "      <th>0</th>\n",
       "      <td>-0.486645</td>\n",
       "      <td>-0.535811</td>\n",
       "      <td>-0.179993</td>\n",
       "      <td>-0.485127</td>\n",
       "      <td>-0.459488</td>\n",
       "      <td>-0.191879</td>\n",
       "      <td>0.891121</td>\n",
       "      <td>0.179527</td>\n",
       "      <td>0.134694</td>\n",
       "      <td>-0.759306</td>\n",
       "      <td>...</td>\n",
       "      <td>-0.054173</td>\n",
       "      <td>1.172633</td>\n",
       "      <td>-0.094939</td>\n",
       "      <td>0.435587</td>\n",
       "      <td>-0.081190</td>\n",
       "      <td>-0.123026</td>\n",
       "      <td>-0.398794</td>\n",
       "      <td>0.067198</td>\n",
       "      <td>0.474355</td>\n",
       "      <td>1.835503</td>\n",
       "    </tr>\n",
       "    <tr>\n",
       "      <th>1</th>\n",
       "      <td>1.278980</td>\n",
       "      <td>-0.535811</td>\n",
       "      <td>-0.262127</td>\n",
       "      <td>-0.485127</td>\n",
       "      <td>-0.459488</td>\n",
       "      <td>0.080470</td>\n",
       "      <td>-0.608635</td>\n",
       "      <td>4.425808</td>\n",
       "      <td>1.291836</td>\n",
       "      <td>-0.144921</td>\n",
       "      <td>...</td>\n",
       "      <td>1.871160</td>\n",
       "      <td>-0.493207</td>\n",
       "      <td>0.095716</td>\n",
       "      <td>-0.623637</td>\n",
       "      <td>-0.612415</td>\n",
       "      <td>-1.023784</td>\n",
       "      <td>0.981665</td>\n",
       "      <td>1.165998</td>\n",
       "      <td>0.643927</td>\n",
       "      <td>-0.665792</td>\n",
       "    </tr>\n",
       "    <tr>\n",
       "      <th>2</th>\n",
       "      <td>-0.486645</td>\n",
       "      <td>-0.535811</td>\n",
       "      <td>-0.359750</td>\n",
       "      <td>-0.485127</td>\n",
       "      <td>-0.459488</td>\n",
       "      <td>-0.540476</td>\n",
       "      <td>-0.666244</td>\n",
       "      <td>-0.661199</td>\n",
       "      <td>0.134694</td>\n",
       "      <td>-0.075975</td>\n",
       "      <td>...</td>\n",
       "      <td>-0.054173</td>\n",
       "      <td>-0.459087</td>\n",
       "      <td>-0.094939</td>\n",
       "      <td>-1.752985</td>\n",
       "      <td>-1.035105</td>\n",
       "      <td>-0.123026</td>\n",
       "      <td>0.128299</td>\n",
       "      <td>-0.238897</td>\n",
       "      <td>-0.281905</td>\n",
       "      <td>-1.408399</td>\n",
       "    </tr>\n",
       "    <tr>\n",
       "      <th>3</th>\n",
       "      <td>-0.486645</td>\n",
       "      <td>-0.535811</td>\n",
       "      <td>-0.359750</td>\n",
       "      <td>-0.485127</td>\n",
       "      <td>-0.459488</td>\n",
       "      <td>-0.540476</td>\n",
       "      <td>-0.666244</td>\n",
       "      <td>-0.078615</td>\n",
       "      <td>-0.577916</td>\n",
       "      <td>-0.075975</td>\n",
       "      <td>...</td>\n",
       "      <td>-0.502868</td>\n",
       "      <td>2.946900</td>\n",
       "      <td>-0.736962</td>\n",
       "      <td>-1.315458</td>\n",
       "      <td>-1.025054</td>\n",
       "      <td>-0.123026</td>\n",
       "      <td>-0.797343</td>\n",
       "      <td>-1.328894</td>\n",
       "      <td>-1.366281</td>\n",
       "      <td>0.105953</td>\n",
       "    </tr>\n",
       "    <tr>\n",
       "      <th>4</th>\n",
       "      <td>-0.486645</td>\n",
       "      <td>-0.535811</td>\n",
       "      <td>-0.359750</td>\n",
       "      <td>3.150208</td>\n",
       "      <td>-0.459488</td>\n",
       "      <td>0.887672</td>\n",
       "      <td>-0.666244</td>\n",
       "      <td>-0.344442</td>\n",
       "      <td>0.393186</td>\n",
       "      <td>2.401618</td>\n",
       "      <td>...</td>\n",
       "      <td>-0.399309</td>\n",
       "      <td>-0.310842</td>\n",
       "      <td>-0.641103</td>\n",
       "      <td>-0.101099</td>\n",
       "      <td>-0.670518</td>\n",
       "      <td>-0.123026</td>\n",
       "      <td>-0.131376</td>\n",
       "      <td>-0.098457</td>\n",
       "      <td>1.079729</td>\n",
       "      <td>1.002536</td>\n",
       "    </tr>\n",
       "  </tbody>\n",
       "</table>\n",
       "<p>5 rows × 4608 columns</p>\n",
       "</div>"
      ],
      "text/plain": [
       "       0         1         2         3         4         5         6     \\\n",
       "0 -0.486645 -0.535811 -0.179993 -0.485127 -0.459488 -0.191879  0.891121   \n",
       "1  1.278980 -0.535811 -0.262127 -0.485127 -0.459488  0.080470 -0.608635   \n",
       "2 -0.486645 -0.535811 -0.359750 -0.485127 -0.459488 -0.540476 -0.666244   \n",
       "3 -0.486645 -0.535811 -0.359750 -0.485127 -0.459488 -0.540476 -0.666244   \n",
       "4 -0.486645 -0.535811 -0.359750  3.150208 -0.459488  0.887672 -0.666244   \n",
       "\n",
       "       7         8         9       ...         4598      4599      4600  \\\n",
       "0  0.179527  0.134694 -0.759306    ...    -0.054173  1.172633 -0.094939   \n",
       "1  4.425808  1.291836 -0.144921    ...     1.871160 -0.493207  0.095716   \n",
       "2 -0.661199  0.134694 -0.075975    ...    -0.054173 -0.459087 -0.094939   \n",
       "3 -0.078615 -0.577916 -0.075975    ...    -0.502868  2.946900 -0.736962   \n",
       "4 -0.344442  0.393186  2.401618    ...    -0.399309 -0.310842 -0.641103   \n",
       "\n",
       "       4601      4602      4603      4604      4605      4606      4607  \n",
       "0  0.435587 -0.081190 -0.123026 -0.398794  0.067198  0.474355  1.835503  \n",
       "1 -0.623637 -0.612415 -1.023784  0.981665  1.165998  0.643927 -0.665792  \n",
       "2 -1.752985 -1.035105 -0.123026  0.128299 -0.238897 -0.281905 -1.408399  \n",
       "3 -1.315458 -1.025054 -0.123026 -0.797343 -1.328894 -1.366281  0.105953  \n",
       "4 -0.101099 -0.670518 -0.123026 -0.131376 -0.098457  1.079729  1.002536  \n",
       "\n",
       "[5 rows x 4608 columns]"
      ]
     },
     "metadata": {},
     "output_type": "display_data"
    }
   ],
   "source": [
    "all_input_data = all_df.drop(['ID', 'prediction'], axis=1).copy()\n",
    "all_output_data = all_df['prediction'].copy()\n",
    "all_input_data_std = pd.DataFrame(sc.fit_transform(all_input_data))\n",
    "\n",
    "all_input_data_train, all_input_data_test, all_output_data_train, all_output_data_test = train_test_split(all_input_data,\n",
    "                                                                                                          all_output_data,\n",
    "                                                                                                         test_size=0.3,\n",
    "                                                                                                         random_state=2018)\n",
    "all_input_data_train_std = pd.DataFrame(sc.fit_transform(all_input_data_train))\n",
    "all_input_data_test_std = pd.DataFrame(sc.transform(all_input_data_test))\n",
    "display(all_input_data_train_std[:5])\n",
    "display(all_input_data_test_std[:5])\n",
    "\n",
    "# Official Testing Data\n",
    "testing_input_data = test_df.drop(['ID'], axis=1).copy()\n",
    "testing_input_data_std = pd.DataFrame(sc.transform(testing_input_data))\n",
    "\n",
    "#np.random.seed(2018) No Idea\n",
    "#random.seed(2018)"
   ]
  },
  {
   "cell_type": "markdown",
   "metadata": {},
   "source": [
    "## Create MLP Model"
   ]
  },
  {
   "cell_type": "code",
   "execution_count": 18,
   "metadata": {
    "collapsed": true
   },
   "outputs": [],
   "source": [
    "#create model\n",
    "model = Sequential()\n",
    "model.add(Dense(36, input_dim=4608, activation='sigmoid'))\n",
    "model.add(Dense(18, activation='sigmoid'))\n",
    "model.add(Dense(9, activation='sigmoid'))\n",
    "model.add(Dense(1, activation='sigmoid'))\n",
    "model.compile(loss='binary_crossentropy', optimizer='adam', metrics=['accuracy'])\n",
    "#model.summary()"
   ]
  },
  {
   "cell_type": "code",
   "execution_count": 19,
   "metadata": {},
   "outputs": [
    {
     "name": "stdout",
     "output_type": "stream",
     "text": [
      "3192/3192 [==============================] - 1s 364us/step\n"
     ]
    }
   ],
   "source": [
    "#train model\n",
    "model.fit(all_input_data_train_std, all_output_data_train, epochs=100, batch_size=72, verbose=0)\n",
    "\n",
    "#evaluate training\n",
    "scores = model.evaluate(all_input_data_train_std, all_output_data_train)\n",
    "#print(\"\\n%s: %.5f%%\" % (model.metrics_names[0], scores[0]*100))\n",
    "#print(\"\\n%s: %.5f%%\" % (model.metrics_names[1], scores[1]*100))"
   ]
  },
  {
   "cell_type": "markdown",
   "metadata": {},
   "source": [
    "## Make Predictions"
   ]
  },
  {
   "cell_type": "code",
   "execution_count": 23,
   "metadata": {},
   "outputs": [
    {
     "name": "stdout",
     "output_type": "stream",
     "text": [
      "Accuracy:  0.863304093567\n",
      "Ones: 15.892857142857142\n",
      "Zeros: 11.25\n"
     ]
    }
   ],
   "source": [
    "#make predictions on test data\n",
    "predictions = model.predict(all_input_data_test_std)\n",
    "rounded = [round(x[0]) for x in predictions]\n",
    "\n",
    "accuracy = accuracy_score(all_output_data_test, rounded)\n",
    "print('Accuracy: ', accuracy)\n",
    "\n",
    "val1 = (rounded.count(1) / 5040) *100\n",
    "val0 = (rounded.count(0) / 5040) *100\n",
    "print('Ones:' , val1)\n",
    "print('Zeros:', val0)\n",
    "#display(proportions_df)"
   ]
  },
  {
   "cell_type": "raw",
   "metadata": {},
   "source": [
    "#create results dataframe\n",
    "#results_df = test_df[['ID']].copy()\n",
    "#results_df['prediction'] = pd.Series(rounded).astype(int)\n",
    "#display(results_df[:9])"
   ]
  },
  {
   "cell_type": "code",
   "execution_count": null,
   "metadata": {
    "collapsed": true
   },
   "outputs": [],
   "source": [
    "#write results to file\n",
    "#results_df.to_csv('submission5.csv', index=False)"
   ]
  }
 ],
 "metadata": {
  "kernelspec": {
   "display_name": "Python 3",
   "language": "python",
   "name": "python3"
  },
  "language_info": {
   "codemirror_mode": {
    "name": "ipython",
    "version": 3
   },
   "file_extension": ".py",
   "mimetype": "text/x-python",
   "name": "python",
   "nbconvert_exporter": "python",
   "pygments_lexer": "ipython3",
   "version": "3.6.2"
  }
 },
 "nbformat": 4,
 "nbformat_minor": 2
}
