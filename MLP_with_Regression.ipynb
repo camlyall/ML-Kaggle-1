{
 "cells": [
  {
   "cell_type": "markdown",
   "metadata": {
    "collapsed": true
   },
   "source": [
    "## Setup"
   ]
  },
  {
   "cell_type": "code",
   "execution_count": 1,
   "metadata": {
    "collapsed": true
   },
   "outputs": [],
   "source": [
    "import csv\n",
    "import pandas as pd\n",
    "import numpy as np\n",
    "\n",
    "train_df = pd.read_csv(\"training.csv\", delimiter=\",\", header=0)\n",
    "test_df = pd.read_csv(\"testing.csv\", delimiter=\",\", header=0)\n",
    "confidence_df = pd.read_csv(\"annotation_confidence.csv\", delimiter=\",\", header=0)\n",
    "additional_df = pd.read_csv(\"additional_training.csv\", delimiter=\",\", header=0)\n",
    "proportions_df = pd.read_csv(\"test_proportions.csv\", delimiter=\",\", header=None, dtype=\"unicode\")\n",
    "\n",
    "all_df = pd.concat([train_df, additional_df])\n",
    "\n",
    "unconfident_list = confidence_df[confidence_df.confidence != 1]['ID'].tolist()\n",
    "confident_list = confidence_df[confidence_df.confidence == 1]['ID'].tolist()"
   ]
  },
  {
   "cell_type": "markdown",
   "metadata": {},
   "source": [
    "## Confident Training Average"
   ]
  },
  {
   "cell_type": "markdown",
   "metadata": {},
   "source": [
    " - Training Data\n",
    " - Confident Training Data\n",
    " - Confident 0 Training Data\n",
    " - Confident 1 Trainng Data\n",
    " - Averages for above 2"
   ]
  },
  {
   "cell_type": "code",
   "execution_count": 2,
   "metadata": {
    "collapsed": true
   },
   "outputs": [],
   "source": [
    "confident_train_df = train_df[train_df['ID'].isin(confident_list)]\n",
    "confident_0_train_df = confident_train_df[confident_train_df.prediction == 0]\n",
    "confident_1_train_df = confident_train_df[confident_train_df.prediction == 1]\n",
    "confident_0_avg = pd.DataFrame(confident_0_train_df.mean(axis=0)[1:-1]).T\n",
    "confident_1_avg = pd.DataFrame(confident_1_train_df.mean(axis=0)[1:-1]).T"
   ]
  },
  {
   "cell_type": "markdown",
   "metadata": {},
   "source": [
    "## Unconfident Training and Additional Average"
   ]
  },
  {
   "cell_type": "markdown",
   "metadata": {},
   "source": [
    " - Unconfident All Data\n",
    " - Unconfident 0 All Data\n",
    " - Unconfident 1 All Data\n",
    " - Averages for above 2"
   ]
  },
  {
   "cell_type": "code",
   "execution_count": 3,
   "metadata": {
    "collapsed": true
   },
   "outputs": [],
   "source": [
    "unconfident_all_df =  all_df[all_df['ID'].isin(unconfident_list)]\n",
    "unconfident_0_all_df = unconfident_all_df[unconfident_all_df.prediction == 0]\n",
    "unconfident_1_all_df = unconfident_all_df[unconfident_all_df.prediction == 1]\n",
    "unconfident_0_avg = pd.DataFrame(unconfident_0_all_df.mean(axis=0)[1:-1]).T\n",
    "unconfident_1_avg = pd.DataFrame(unconfident_1_all_df.mean(axis=0)[1:-1]).T"
   ]
  },
  {
   "cell_type": "markdown",
   "metadata": {},
   "source": [
    "## Fill Additional With Confident Averages"
   ]
  },
  {
   "cell_type": "markdown",
   "metadata": {},
   "source": [
    " - Additional Data\n",
    " - Confident Additional Data\n",
    " - Confident 0 Additional Data\n",
    " - Confident 1 Additional Data\n",
    " - FillNa above 2 with Confident Averages\n",
    " - Update Additional with New values"
   ]
  },
  {
   "cell_type": "code",
   "execution_count": 4,
   "metadata": {
    "collapsed": true
   },
   "outputs": [],
   "source": [
    "confident_additional_df = additional_df[additional_df['ID'].isin(confident_list)].copy()\n",
    "confident_0_additional_df = confident_additional_df[confident_additional_df.prediction == 0]\n",
    "confident_1_additional_df = confident_additional_df[confident_additional_df.prediction == 1]\n",
    "confident_0_additional_df = confident_0_additional_df.fillna(value=confident_0_avg.iloc[0])\n",
    "confident_1_additional_df = confident_1_additional_df.fillna(value=confident_1_avg.iloc[0])"
   ]
  },
  {
   "cell_type": "code",
   "execution_count": 5,
   "metadata": {
    "collapsed": true
   },
   "outputs": [],
   "source": [
    "confident_additional_df.update(confident_0_additional_df)\n",
    "confident_additional_df.update(confident_1_additional_df)\n",
    "additional_df.update(confident_additional_df)"
   ]
  },
  {
   "cell_type": "markdown",
   "metadata": {},
   "source": [
    "## Fill Additional With Unconfident Averages"
   ]
  },
  {
   "cell_type": "markdown",
   "metadata": {},
   "source": [
    " - Unconfident AdditionalData\n",
    " - Unconfident 0 Additional Data\n",
    " - Unconfident 1 Additional Data\n",
    " - FillNa above 2 with Unconfident Averages\n",
    " - Update Additional with New Values\n"
   ]
  },
  {
   "cell_type": "code",
   "execution_count": 6,
   "metadata": {
    "collapsed": true
   },
   "outputs": [],
   "source": [
    "unconfident_additional_df = additional_df[additional_df['ID'].isin(unconfident_list)].copy()\n",
    "unconfident_0_additional_df = unconfident_additional_df[unconfident_additional_df.prediction == 0]\n",
    "unconfident_1_additional_df = unconfident_additional_df[unconfident_additional_df.prediction == 1]\n",
    "unconfident_0_additional_df = unconfident_0_additional_df.fillna(value=unconfident_0_avg.iloc[0])\n",
    "unconfident_1_additional_df = unconfident_1_additional_df.fillna(value=unconfident_1_avg.iloc[0])"
   ]
  },
  {
   "cell_type": "code",
   "execution_count": 7,
   "metadata": {
    "collapsed": true
   },
   "outputs": [],
   "source": [
    "unconfident_additional_df.update(unconfident_0_additional_df)\n",
    "unconfident_additional_df.update(unconfident_1_additional_df)\n",
    "additional_df.update(unconfident_additional_df)"
   ]
  },
  {
   "cell_type": "markdown",
   "metadata": {},
   "source": [
    "### Update All with New Additional Values"
   ]
  },
  {
   "cell_type": "code",
   "execution_count": 8,
   "metadata": {
    "collapsed": true
   },
   "outputs": [],
   "source": [
    "all_df.update(additional_df)"
   ]
  },
  {
   "cell_type": "markdown",
   "metadata": {},
   "source": [
    "# Multi-Layered Perceptron"
   ]
  },
  {
   "cell_type": "code",
   "execution_count": 9,
   "metadata": {},
   "outputs": [
    {
     "name": "stderr",
     "output_type": "stream",
     "text": [
      "Using TensorFlow backend.\n"
     ]
    }
   ],
   "source": [
    "from keras.models import Sequential\n",
    "from keras.layers import Dense\n",
    "from keras.utils.vis_utils import plot_model\n",
    "from keras.wrappers.scikit_learn import KerasRegressor\n",
    "from matplotlib import pyplot\n",
    "from sklearn.preprocessing import StandardScaler\n",
    "from sklearn.pipeline import Pipeline\n",
    "from sklearn.model_selection import KFold, cross_val_score, cross_val_predict"
   ]
  },
  {
   "cell_type": "code",
   "execution_count": 10,
   "metadata": {
    "collapsed": true
   },
   "outputs": [],
   "source": [
    "all_input_data = all_df.drop(['ID', 'prediction'], axis=1).copy()\n",
    "all_output_data = all_df['prediction'].copy()\n",
    "\n",
    "testing_input_data = test_df.drop(['ID'], axis=1).copy()\n",
    "\n",
    "seed = 1"
   ]
  },
  {
   "cell_type": "markdown",
   "metadata": {},
   "source": [
    "## Create MLP Model"
   ]
  },
  {
   "cell_type": "code",
   "execution_count": 11,
   "metadata": {
    "collapsed": true
   },
   "outputs": [],
   "source": [
    "#create model\n",
    "def model():\n",
    "    model = Sequential()\n",
    "    model.add(Dense(18, input_dim=4608, activation='relu'))\n",
    "    model.add(Dense(9, activation='relu'))\n",
    "    model.add(Dense(1, activation='sigmoid'))\n",
    "    model.compile(loss='binary_crossentropy', optimizer='adam', metrics=['accuracy'])\n",
    "    #model.summary()\n",
    "    return model"
   ]
  },
  {
   "cell_type": "code",
   "execution_count": 12,
   "metadata": {
    "collapsed": true
   },
   "outputs": [],
   "source": [
    "estimator = KerasRegressor(build_fn=model, nb_epoch=100, batch_size=36, verbose=0)\n",
    "kfold = KFold(n_splits=18, random_state=seed)"
   ]
  },
  {
   "cell_type": "code",
   "execution_count": 13,
   "metadata": {},
   "outputs": [
    {
     "name": "stdout",
     "output_type": "stream",
     "text": [
      "Results: -0.37 (0.05) MSE\n"
     ]
    }
   ],
   "source": [
    "results = cross_val_score(estimator, all_input_data, all_output_data, cv=kfold)\n",
    "print(\"Results: %.2f (%.2f) MSE\" % (results.mean(), results.std()))\n",
    "estimator.fit(all_input_data, all_output_data)\n",
    "predictions = estimator.predict(testing_input_data)\n",
    "rounded = [round(x) for x in predictions]"
   ]
  },
  {
   "cell_type": "code",
   "execution_count": 14,
   "metadata": {},
   "outputs": [
    {
     "name": "stdout",
     "output_type": "stream",
     "text": [
      "Ones: 59.30555555555556\n",
      "Zeros: 40.69444444444444\n"
     ]
    },
    {
     "data": {
      "text/html": [
       "<div>\n",
       "<style>\n",
       "    .dataframe thead tr:only-child th {\n",
       "        text-align: right;\n",
       "    }\n",
       "\n",
       "    .dataframe thead th {\n",
       "        text-align: left;\n",
       "    }\n",
       "\n",
       "    .dataframe tbody tr th {\n",
       "        vertical-align: top;\n",
       "    }\n",
       "</style>\n",
       "<table border=\"1\" class=\"dataframe\">\n",
       "  <thead>\n",
       "    <tr style=\"text-align: right;\">\n",
       "      <th></th>\n",
       "      <th>0</th>\n",
       "    </tr>\n",
       "  </thead>\n",
       "  <tbody>\n",
       "    <tr>\n",
       "      <th>0</th>\n",
       "      <td>0.4286 class 1</td>\n",
       "    </tr>\n",
       "    <tr>\n",
       "      <th>1</th>\n",
       "      <td>0.5714 class 0</td>\n",
       "    </tr>\n",
       "  </tbody>\n",
       "</table>\n",
       "</div>"
      ],
      "text/plain": [
       "                0\n",
       "0  0.4286 class 1\n",
       "1  0.5714 class 0"
      ]
     },
     "metadata": {},
     "output_type": "display_data"
    }
   ],
   "source": [
    "val1 = (rounded.count(1) / 5040) *100\n",
    "val0 = (rounded.count(0) / 5040) *100\n",
    "print('Ones:' , val1)\n",
    "print('Zeros:', val0)\n",
    "display(proportions_df)"
   ]
  },
  {
   "cell_type": "code",
   "execution_count": 15,
   "metadata": {
    "collapsed": true
   },
   "outputs": [],
   "source": [
    "#create results dataframe\n",
    "results_df = test_df[['ID']].copy()\n",
    "results_df['prediction'] = pd.Series(rounded).astype(int)\n",
    "#display(results_df[:9])"
   ]
  },
  {
   "cell_type": "code",
   "execution_count": 16,
   "metadata": {
    "collapsed": true
   },
   "outputs": [],
   "source": [
    "#write results to file\n",
    "results_df.to_csv('submission5.csv', index=False)"
   ]
  },
  {
   "cell_type": "code",
   "execution_count": 17,
   "metadata": {
    "collapsed": true
   },
   "outputs": [],
   "source": [
    "# Non Clear Re Run : 0(42.61904761904762) 1(57.38095238095238)\n",
    "# Clear Re Run : 0(44.44444444444444) 1(55.55555555555556)\n",
    "# Clear Re Run Again : 0(43.37301587301587) 1(56.62698412698413)"
   ]
  }
 ],
 "metadata": {
  "kernelspec": {
   "display_name": "Python 3",
   "language": "python",
   "name": "python3"
  },
  "language_info": {
   "codemirror_mode": {
    "name": "ipython",
    "version": 3
   },
   "file_extension": ".py",
   "mimetype": "text/x-python",
   "name": "python",
   "nbconvert_exporter": "python",
   "pygments_lexer": "ipython3",
   "version": "3.6.2"
  }
 },
 "nbformat": 4,
 "nbformat_minor": 2
}
